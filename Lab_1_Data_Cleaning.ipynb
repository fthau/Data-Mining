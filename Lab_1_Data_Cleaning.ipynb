{
  "nbformat": 4,
  "nbformat_minor": 0,
  "metadata": {
    "colab": {
      "provenance": [],
      "authorship_tag": "ABX9TyPC+z0dOPMQzrnJMoWhmVWp",
      "include_colab_link": true
    },
    "kernelspec": {
      "name": "python3",
      "display_name": "Python 3"
    },
    "language_info": {
      "name": "python"
    }
  },
  "cells": [
    {
      "cell_type": "markdown",
      "metadata": {
        "id": "view-in-github",
        "colab_type": "text"
      },
      "source": [
        "<a href=\"https://colab.research.google.com/github/fthau/Data-Mining/blob/main/Lab_1_Data_Cleaning.ipynb\" target=\"_parent\"><img src=\"https://colab.research.google.com/assets/colab-badge.svg\" alt=\"Open In Colab\"/></a>"
      ]
    },
    {
      "cell_type": "code",
      "source": [
        "from google.colab import files\n",
        "files.upload()\n"
      ],
      "metadata": {
        "colab": {
          "base_uri": "https://localhost:8080/",
          "height": 86
        },
        "id": "UH5Ek2wBdjlb",
        "outputId": "93054fa0-aab4-4f2c-8867-ccb4068caeba"
      },
      "execution_count": null,
      "outputs": [
        {
          "output_type": "display_data",
          "data": {
            "text/plain": [
              "<IPython.core.display.HTML object>"
            ],
            "text/html": [
              "\n",
              "     <input type=\"file\" id=\"files-9f6b00dc-e66d-4c53-9203-150f6e1756f6\" name=\"files[]\" multiple disabled\n",
              "        style=\"border:none\" />\n",
              "     <output id=\"result-9f6b00dc-e66d-4c53-9203-150f6e1756f6\">\n",
              "      Upload widget is only available when the cell has been executed in the\n",
              "      current browser session. Please rerun this cell to enable.\n",
              "      </output>\n",
              "      <script>// Copyright 2017 Google LLC\n",
              "//\n",
              "// Licensed under the Apache License, Version 2.0 (the \"License\");\n",
              "// you may not use this file except in compliance with the License.\n",
              "// You may obtain a copy of the License at\n",
              "//\n",
              "//      http://www.apache.org/licenses/LICENSE-2.0\n",
              "//\n",
              "// Unless required by applicable law or agreed to in writing, software\n",
              "// distributed under the License is distributed on an \"AS IS\" BASIS,\n",
              "// WITHOUT WARRANTIES OR CONDITIONS OF ANY KIND, either express or implied.\n",
              "// See the License for the specific language governing permissions and\n",
              "// limitations under the License.\n",
              "\n",
              "/**\n",
              " * @fileoverview Helpers for google.colab Python module.\n",
              " */\n",
              "(function(scope) {\n",
              "function span(text, styleAttributes = {}) {\n",
              "  const element = document.createElement('span');\n",
              "  element.textContent = text;\n",
              "  for (const key of Object.keys(styleAttributes)) {\n",
              "    element.style[key] = styleAttributes[key];\n",
              "  }\n",
              "  return element;\n",
              "}\n",
              "\n",
              "// Max number of bytes which will be uploaded at a time.\n",
              "const MAX_PAYLOAD_SIZE = 100 * 1024;\n",
              "\n",
              "function _uploadFiles(inputId, outputId) {\n",
              "  const steps = uploadFilesStep(inputId, outputId);\n",
              "  const outputElement = document.getElementById(outputId);\n",
              "  // Cache steps on the outputElement to make it available for the next call\n",
              "  // to uploadFilesContinue from Python.\n",
              "  outputElement.steps = steps;\n",
              "\n",
              "  return _uploadFilesContinue(outputId);\n",
              "}\n",
              "\n",
              "// This is roughly an async generator (not supported in the browser yet),\n",
              "// where there are multiple asynchronous steps and the Python side is going\n",
              "// to poll for completion of each step.\n",
              "// This uses a Promise to block the python side on completion of each step,\n",
              "// then passes the result of the previous step as the input to the next step.\n",
              "function _uploadFilesContinue(outputId) {\n",
              "  const outputElement = document.getElementById(outputId);\n",
              "  const steps = outputElement.steps;\n",
              "\n",
              "  const next = steps.next(outputElement.lastPromiseValue);\n",
              "  return Promise.resolve(next.value.promise).then((value) => {\n",
              "    // Cache the last promise value to make it available to the next\n",
              "    // step of the generator.\n",
              "    outputElement.lastPromiseValue = value;\n",
              "    return next.value.response;\n",
              "  });\n",
              "}\n",
              "\n",
              "/**\n",
              " * Generator function which is called between each async step of the upload\n",
              " * process.\n",
              " * @param {string} inputId Element ID of the input file picker element.\n",
              " * @param {string} outputId Element ID of the output display.\n",
              " * @return {!Iterable<!Object>} Iterable of next steps.\n",
              " */\n",
              "function* uploadFilesStep(inputId, outputId) {\n",
              "  const inputElement = document.getElementById(inputId);\n",
              "  inputElement.disabled = false;\n",
              "\n",
              "  const outputElement = document.getElementById(outputId);\n",
              "  outputElement.innerHTML = '';\n",
              "\n",
              "  const pickedPromise = new Promise((resolve) => {\n",
              "    inputElement.addEventListener('change', (e) => {\n",
              "      resolve(e.target.files);\n",
              "    });\n",
              "  });\n",
              "\n",
              "  const cancel = document.createElement('button');\n",
              "  inputElement.parentElement.appendChild(cancel);\n",
              "  cancel.textContent = 'Cancel upload';\n",
              "  const cancelPromise = new Promise((resolve) => {\n",
              "    cancel.onclick = () => {\n",
              "      resolve(null);\n",
              "    };\n",
              "  });\n",
              "\n",
              "  // Wait for the user to pick the files.\n",
              "  const files = yield {\n",
              "    promise: Promise.race([pickedPromise, cancelPromise]),\n",
              "    response: {\n",
              "      action: 'starting',\n",
              "    }\n",
              "  };\n",
              "\n",
              "  cancel.remove();\n",
              "\n",
              "  // Disable the input element since further picks are not allowed.\n",
              "  inputElement.disabled = true;\n",
              "\n",
              "  if (!files) {\n",
              "    return {\n",
              "      response: {\n",
              "        action: 'complete',\n",
              "      }\n",
              "    };\n",
              "  }\n",
              "\n",
              "  for (const file of files) {\n",
              "    const li = document.createElement('li');\n",
              "    li.append(span(file.name, {fontWeight: 'bold'}));\n",
              "    li.append(span(\n",
              "        `(${file.type || 'n/a'}) - ${file.size} bytes, ` +\n",
              "        `last modified: ${\n",
              "            file.lastModifiedDate ? file.lastModifiedDate.toLocaleDateString() :\n",
              "                                    'n/a'} - `));\n",
              "    const percent = span('0% done');\n",
              "    li.appendChild(percent);\n",
              "\n",
              "    outputElement.appendChild(li);\n",
              "\n",
              "    const fileDataPromise = new Promise((resolve) => {\n",
              "      const reader = new FileReader();\n",
              "      reader.onload = (e) => {\n",
              "        resolve(e.target.result);\n",
              "      };\n",
              "      reader.readAsArrayBuffer(file);\n",
              "    });\n",
              "    // Wait for the data to be ready.\n",
              "    let fileData = yield {\n",
              "      promise: fileDataPromise,\n",
              "      response: {\n",
              "        action: 'continue',\n",
              "      }\n",
              "    };\n",
              "\n",
              "    // Use a chunked sending to avoid message size limits. See b/62115660.\n",
              "    let position = 0;\n",
              "    do {\n",
              "      const length = Math.min(fileData.byteLength - position, MAX_PAYLOAD_SIZE);\n",
              "      const chunk = new Uint8Array(fileData, position, length);\n",
              "      position += length;\n",
              "\n",
              "      const base64 = btoa(String.fromCharCode.apply(null, chunk));\n",
              "      yield {\n",
              "        response: {\n",
              "          action: 'append',\n",
              "          file: file.name,\n",
              "          data: base64,\n",
              "        },\n",
              "      };\n",
              "\n",
              "      let percentDone = fileData.byteLength === 0 ?\n",
              "          100 :\n",
              "          Math.round((position / fileData.byteLength) * 100);\n",
              "      percent.textContent = `${percentDone}% done`;\n",
              "\n",
              "    } while (position < fileData.byteLength);\n",
              "  }\n",
              "\n",
              "  // All done.\n",
              "  yield {\n",
              "    response: {\n",
              "      action: 'complete',\n",
              "    }\n",
              "  };\n",
              "}\n",
              "\n",
              "scope.google = scope.google || {};\n",
              "scope.google.colab = scope.google.colab || {};\n",
              "scope.google.colab._files = {\n",
              "  _uploadFiles,\n",
              "  _uploadFilesContinue,\n",
              "};\n",
              "})(self);\n",
              "</script> "
            ]
          },
          "metadata": {}
        },
        {
          "output_type": "stream",
          "name": "stdout",
          "text": [
            "Saving kaggle.json to kaggle.json\n"
          ]
        },
        {
          "output_type": "execute_result",
          "data": {
            "text/plain": [
              "{'kaggle.json': b'{\"username\":\"fernandothaureaux\",\"key\":\"8fe5e5332b260edb63c39ecdc9b12e8d\"}'}"
            ]
          },
          "metadata": {},
          "execution_count": 22
        }
      ]
    },
    {
      "cell_type": "code",
      "source": [
        "!mkdir -p ~/.kaggle\n",
        "!mv kaggle.json ~/.kaggle/\n",
        "!chmod 600 ~/.kaggle/kaggle.json\n"
      ],
      "metadata": {
        "id": "cBHeGn6Odv1Q"
      },
      "execution_count": null,
      "outputs": []
    },
    {
      "cell_type": "code",
      "source": [
        "!kaggle datasets download -d ahmedmohamed2003/retail-store-sales-dirty-for-data-cleaning\n"
      ],
      "metadata": {
        "colab": {
          "base_uri": "https://localhost:8080/"
        },
        "id": "jt3q6tZDeAzt",
        "outputId": "8c26849f-980c-4b88-ff71-fff31bebb80b"
      },
      "execution_count": null,
      "outputs": [
        {
          "output_type": "stream",
          "name": "stdout",
          "text": [
            "Dataset URL: https://www.kaggle.com/datasets/ahmedmohamed2003/retail-store-sales-dirty-for-data-cleaning\n",
            "License(s): CC-BY-SA-4.0\n",
            "retail-store-sales-dirty-for-data-cleaning.zip: Skipping, found more recently modified local copy (use --force to force download)\n"
          ]
        }
      ]
    },
    {
      "cell_type": "code",
      "source": [
        "import zipfile\n",
        "\n",
        "with zipfile.ZipFile(\"retail-store-sales-dirty-for-data-cleaning.zip\", \"r\") as zip_ref:\n",
        "    zip_ref.extractall(\"retail_data\")\n"
      ],
      "metadata": {
        "id": "Xqr2tD40eFE3"
      },
      "execution_count": null,
      "outputs": []
    },
    {
      "cell_type": "code",
      "source": [
        "import pandas as pd\n",
        "\n",
        "df = pd.read_csv(\"retail_data/retail_store_sales.csv\")\n",
        "df.head()\n"
      ],
      "metadata": {
        "colab": {
          "base_uri": "https://localhost:8080/",
          "height": 238
        },
        "id": "5pkSy0kqeKTE",
        "outputId": "36e61b11-9fd3-4b25-cb7b-158769a7662e"
      },
      "execution_count": null,
      "outputs": [
        {
          "output_type": "execute_result",
          "data": {
            "text/plain": [
              "  Transaction ID Customer ID       Category          Item  Price Per Unit  \\\n",
              "0    TXN_6867343     CUST_09     Patisserie   Item_10_PAT            18.5   \n",
              "1    TXN_3731986     CUST_22  Milk Products  Item_17_MILK            29.0   \n",
              "2    TXN_9303719     CUST_02       Butchers   Item_12_BUT            21.5   \n",
              "3    TXN_9458126     CUST_06      Beverages   Item_16_BEV            27.5   \n",
              "4    TXN_4575373     CUST_05           Food   Item_6_FOOD            12.5   \n",
              "\n",
              "   Quantity  Total Spent  Payment Method Location Transaction Date  \\\n",
              "0      10.0        185.0  Digital Wallet   Online       2024-04-08   \n",
              "1       9.0        261.0  Digital Wallet   Online       2023-07-23   \n",
              "2       2.0         43.0     Credit Card   Online       2022-10-05   \n",
              "3       9.0        247.5     Credit Card   Online       2022-05-07   \n",
              "4       7.0         87.5  Digital Wallet   Online       2022-10-02   \n",
              "\n",
              "  Discount Applied  \n",
              "0             True  \n",
              "1             True  \n",
              "2            False  \n",
              "3              NaN  \n",
              "4            False  "
            ],
            "text/html": [
              "\n",
              "  <div id=\"df-faa5f622-a794-48bf-acd8-3140b2d9b4a9\" class=\"colab-df-container\">\n",
              "    <div>\n",
              "<style scoped>\n",
              "    .dataframe tbody tr th:only-of-type {\n",
              "        vertical-align: middle;\n",
              "    }\n",
              "\n",
              "    .dataframe tbody tr th {\n",
              "        vertical-align: top;\n",
              "    }\n",
              "\n",
              "    .dataframe thead th {\n",
              "        text-align: right;\n",
              "    }\n",
              "</style>\n",
              "<table border=\"1\" class=\"dataframe\">\n",
              "  <thead>\n",
              "    <tr style=\"text-align: right;\">\n",
              "      <th></th>\n",
              "      <th>Transaction ID</th>\n",
              "      <th>Customer ID</th>\n",
              "      <th>Category</th>\n",
              "      <th>Item</th>\n",
              "      <th>Price Per Unit</th>\n",
              "      <th>Quantity</th>\n",
              "      <th>Total Spent</th>\n",
              "      <th>Payment Method</th>\n",
              "      <th>Location</th>\n",
              "      <th>Transaction Date</th>\n",
              "      <th>Discount Applied</th>\n",
              "    </tr>\n",
              "  </thead>\n",
              "  <tbody>\n",
              "    <tr>\n",
              "      <th>0</th>\n",
              "      <td>TXN_6867343</td>\n",
              "      <td>CUST_09</td>\n",
              "      <td>Patisserie</td>\n",
              "      <td>Item_10_PAT</td>\n",
              "      <td>18.5</td>\n",
              "      <td>10.0</td>\n",
              "      <td>185.0</td>\n",
              "      <td>Digital Wallet</td>\n",
              "      <td>Online</td>\n",
              "      <td>2024-04-08</td>\n",
              "      <td>True</td>\n",
              "    </tr>\n",
              "    <tr>\n",
              "      <th>1</th>\n",
              "      <td>TXN_3731986</td>\n",
              "      <td>CUST_22</td>\n",
              "      <td>Milk Products</td>\n",
              "      <td>Item_17_MILK</td>\n",
              "      <td>29.0</td>\n",
              "      <td>9.0</td>\n",
              "      <td>261.0</td>\n",
              "      <td>Digital Wallet</td>\n",
              "      <td>Online</td>\n",
              "      <td>2023-07-23</td>\n",
              "      <td>True</td>\n",
              "    </tr>\n",
              "    <tr>\n",
              "      <th>2</th>\n",
              "      <td>TXN_9303719</td>\n",
              "      <td>CUST_02</td>\n",
              "      <td>Butchers</td>\n",
              "      <td>Item_12_BUT</td>\n",
              "      <td>21.5</td>\n",
              "      <td>2.0</td>\n",
              "      <td>43.0</td>\n",
              "      <td>Credit Card</td>\n",
              "      <td>Online</td>\n",
              "      <td>2022-10-05</td>\n",
              "      <td>False</td>\n",
              "    </tr>\n",
              "    <tr>\n",
              "      <th>3</th>\n",
              "      <td>TXN_9458126</td>\n",
              "      <td>CUST_06</td>\n",
              "      <td>Beverages</td>\n",
              "      <td>Item_16_BEV</td>\n",
              "      <td>27.5</td>\n",
              "      <td>9.0</td>\n",
              "      <td>247.5</td>\n",
              "      <td>Credit Card</td>\n",
              "      <td>Online</td>\n",
              "      <td>2022-05-07</td>\n",
              "      <td>NaN</td>\n",
              "    </tr>\n",
              "    <tr>\n",
              "      <th>4</th>\n",
              "      <td>TXN_4575373</td>\n",
              "      <td>CUST_05</td>\n",
              "      <td>Food</td>\n",
              "      <td>Item_6_FOOD</td>\n",
              "      <td>12.5</td>\n",
              "      <td>7.0</td>\n",
              "      <td>87.5</td>\n",
              "      <td>Digital Wallet</td>\n",
              "      <td>Online</td>\n",
              "      <td>2022-10-02</td>\n",
              "      <td>False</td>\n",
              "    </tr>\n",
              "  </tbody>\n",
              "</table>\n",
              "</div>\n",
              "    <div class=\"colab-df-buttons\">\n",
              "\n",
              "  <div class=\"colab-df-container\">\n",
              "    <button class=\"colab-df-convert\" onclick=\"convertToInteractive('df-faa5f622-a794-48bf-acd8-3140b2d9b4a9')\"\n",
              "            title=\"Convert this dataframe to an interactive table.\"\n",
              "            style=\"display:none;\">\n",
              "\n",
              "  <svg xmlns=\"http://www.w3.org/2000/svg\" height=\"24px\" viewBox=\"0 -960 960 960\">\n",
              "    <path d=\"M120-120v-720h720v720H120Zm60-500h600v-160H180v160Zm220 220h160v-160H400v160Zm0 220h160v-160H400v160ZM180-400h160v-160H180v160Zm440 0h160v-160H620v160ZM180-180h160v-160H180v160Zm440 0h160v-160H620v160Z\"/>\n",
              "  </svg>\n",
              "    </button>\n",
              "\n",
              "  <style>\n",
              "    .colab-df-container {\n",
              "      display:flex;\n",
              "      gap: 12px;\n",
              "    }\n",
              "\n",
              "    .colab-df-convert {\n",
              "      background-color: #E8F0FE;\n",
              "      border: none;\n",
              "      border-radius: 50%;\n",
              "      cursor: pointer;\n",
              "      display: none;\n",
              "      fill: #1967D2;\n",
              "      height: 32px;\n",
              "      padding: 0 0 0 0;\n",
              "      width: 32px;\n",
              "    }\n",
              "\n",
              "    .colab-df-convert:hover {\n",
              "      background-color: #E2EBFA;\n",
              "      box-shadow: 0px 1px 2px rgba(60, 64, 67, 0.3), 0px 1px 3px 1px rgba(60, 64, 67, 0.15);\n",
              "      fill: #174EA6;\n",
              "    }\n",
              "\n",
              "    .colab-df-buttons div {\n",
              "      margin-bottom: 4px;\n",
              "    }\n",
              "\n",
              "    [theme=dark] .colab-df-convert {\n",
              "      background-color: #3B4455;\n",
              "      fill: #D2E3FC;\n",
              "    }\n",
              "\n",
              "    [theme=dark] .colab-df-convert:hover {\n",
              "      background-color: #434B5C;\n",
              "      box-shadow: 0px 1px 3px 1px rgba(0, 0, 0, 0.15);\n",
              "      filter: drop-shadow(0px 1px 2px rgba(0, 0, 0, 0.3));\n",
              "      fill: #FFFFFF;\n",
              "    }\n",
              "  </style>\n",
              "\n",
              "    <script>\n",
              "      const buttonEl =\n",
              "        document.querySelector('#df-faa5f622-a794-48bf-acd8-3140b2d9b4a9 button.colab-df-convert');\n",
              "      buttonEl.style.display =\n",
              "        google.colab.kernel.accessAllowed ? 'block' : 'none';\n",
              "\n",
              "      async function convertToInteractive(key) {\n",
              "        const element = document.querySelector('#df-faa5f622-a794-48bf-acd8-3140b2d9b4a9');\n",
              "        const dataTable =\n",
              "          await google.colab.kernel.invokeFunction('convertToInteractive',\n",
              "                                                    [key], {});\n",
              "        if (!dataTable) return;\n",
              "\n",
              "        const docLinkHtml = 'Like what you see? Visit the ' +\n",
              "          '<a target=\"_blank\" href=https://colab.research.google.com/notebooks/data_table.ipynb>data table notebook</a>'\n",
              "          + ' to learn more about interactive tables.';\n",
              "        element.innerHTML = '';\n",
              "        dataTable['output_type'] = 'display_data';\n",
              "        await google.colab.output.renderOutput(dataTable, element);\n",
              "        const docLink = document.createElement('div');\n",
              "        docLink.innerHTML = docLinkHtml;\n",
              "        element.appendChild(docLink);\n",
              "      }\n",
              "    </script>\n",
              "  </div>\n",
              "\n",
              "\n",
              "    <div id=\"df-921ab7f5-516d-45d9-9a90-8a8c71d6b728\">\n",
              "      <button class=\"colab-df-quickchart\" onclick=\"quickchart('df-921ab7f5-516d-45d9-9a90-8a8c71d6b728')\"\n",
              "                title=\"Suggest charts\"\n",
              "                style=\"display:none;\">\n",
              "\n",
              "<svg xmlns=\"http://www.w3.org/2000/svg\" height=\"24px\"viewBox=\"0 0 24 24\"\n",
              "     width=\"24px\">\n",
              "    <g>\n",
              "        <path d=\"M19 3H5c-1.1 0-2 .9-2 2v14c0 1.1.9 2 2 2h14c1.1 0 2-.9 2-2V5c0-1.1-.9-2-2-2zM9 17H7v-7h2v7zm4 0h-2V7h2v10zm4 0h-2v-4h2v4z\"/>\n",
              "    </g>\n",
              "</svg>\n",
              "      </button>\n",
              "\n",
              "<style>\n",
              "  .colab-df-quickchart {\n",
              "      --bg-color: #E8F0FE;\n",
              "      --fill-color: #1967D2;\n",
              "      --hover-bg-color: #E2EBFA;\n",
              "      --hover-fill-color: #174EA6;\n",
              "      --disabled-fill-color: #AAA;\n",
              "      --disabled-bg-color: #DDD;\n",
              "  }\n",
              "\n",
              "  [theme=dark] .colab-df-quickchart {\n",
              "      --bg-color: #3B4455;\n",
              "      --fill-color: #D2E3FC;\n",
              "      --hover-bg-color: #434B5C;\n",
              "      --hover-fill-color: #FFFFFF;\n",
              "      --disabled-bg-color: #3B4455;\n",
              "      --disabled-fill-color: #666;\n",
              "  }\n",
              "\n",
              "  .colab-df-quickchart {\n",
              "    background-color: var(--bg-color);\n",
              "    border: none;\n",
              "    border-radius: 50%;\n",
              "    cursor: pointer;\n",
              "    display: none;\n",
              "    fill: var(--fill-color);\n",
              "    height: 32px;\n",
              "    padding: 0;\n",
              "    width: 32px;\n",
              "  }\n",
              "\n",
              "  .colab-df-quickchart:hover {\n",
              "    background-color: var(--hover-bg-color);\n",
              "    box-shadow: 0 1px 2px rgba(60, 64, 67, 0.3), 0 1px 3px 1px rgba(60, 64, 67, 0.15);\n",
              "    fill: var(--button-hover-fill-color);\n",
              "  }\n",
              "\n",
              "  .colab-df-quickchart-complete:disabled,\n",
              "  .colab-df-quickchart-complete:disabled:hover {\n",
              "    background-color: var(--disabled-bg-color);\n",
              "    fill: var(--disabled-fill-color);\n",
              "    box-shadow: none;\n",
              "  }\n",
              "\n",
              "  .colab-df-spinner {\n",
              "    border: 2px solid var(--fill-color);\n",
              "    border-color: transparent;\n",
              "    border-bottom-color: var(--fill-color);\n",
              "    animation:\n",
              "      spin 1s steps(1) infinite;\n",
              "  }\n",
              "\n",
              "  @keyframes spin {\n",
              "    0% {\n",
              "      border-color: transparent;\n",
              "      border-bottom-color: var(--fill-color);\n",
              "      border-left-color: var(--fill-color);\n",
              "    }\n",
              "    20% {\n",
              "      border-color: transparent;\n",
              "      border-left-color: var(--fill-color);\n",
              "      border-top-color: var(--fill-color);\n",
              "    }\n",
              "    30% {\n",
              "      border-color: transparent;\n",
              "      border-left-color: var(--fill-color);\n",
              "      border-top-color: var(--fill-color);\n",
              "      border-right-color: var(--fill-color);\n",
              "    }\n",
              "    40% {\n",
              "      border-color: transparent;\n",
              "      border-right-color: var(--fill-color);\n",
              "      border-top-color: var(--fill-color);\n",
              "    }\n",
              "    60% {\n",
              "      border-color: transparent;\n",
              "      border-right-color: var(--fill-color);\n",
              "    }\n",
              "    80% {\n",
              "      border-color: transparent;\n",
              "      border-right-color: var(--fill-color);\n",
              "      border-bottom-color: var(--fill-color);\n",
              "    }\n",
              "    90% {\n",
              "      border-color: transparent;\n",
              "      border-bottom-color: var(--fill-color);\n",
              "    }\n",
              "  }\n",
              "</style>\n",
              "\n",
              "      <script>\n",
              "        async function quickchart(key) {\n",
              "          const quickchartButtonEl =\n",
              "            document.querySelector('#' + key + ' button');\n",
              "          quickchartButtonEl.disabled = true;  // To prevent multiple clicks.\n",
              "          quickchartButtonEl.classList.add('colab-df-spinner');\n",
              "          try {\n",
              "            const charts = await google.colab.kernel.invokeFunction(\n",
              "                'suggestCharts', [key], {});\n",
              "          } catch (error) {\n",
              "            console.error('Error during call to suggestCharts:', error);\n",
              "          }\n",
              "          quickchartButtonEl.classList.remove('colab-df-spinner');\n",
              "          quickchartButtonEl.classList.add('colab-df-quickchart-complete');\n",
              "        }\n",
              "        (() => {\n",
              "          let quickchartButtonEl =\n",
              "            document.querySelector('#df-921ab7f5-516d-45d9-9a90-8a8c71d6b728 button');\n",
              "          quickchartButtonEl.style.display =\n",
              "            google.colab.kernel.accessAllowed ? 'block' : 'none';\n",
              "        })();\n",
              "      </script>\n",
              "    </div>\n",
              "\n",
              "    </div>\n",
              "  </div>\n"
            ],
            "application/vnd.google.colaboratory.intrinsic+json": {
              "type": "dataframe",
              "variable_name": "df",
              "summary": "{\n  \"name\": \"df\",\n  \"rows\": 12575,\n  \"fields\": [\n    {\n      \"column\": \"Transaction ID\",\n      \"properties\": {\n        \"dtype\": \"string\",\n        \"num_unique_values\": 12575,\n        \"samples\": [\n          \"TXN_1981490\",\n          \"TXN_1966034\",\n          \"TXN_3760555\"\n        ],\n        \"semantic_type\": \"\",\n        \"description\": \"\"\n      }\n    },\n    {\n      \"column\": \"Customer ID\",\n      \"properties\": {\n        \"dtype\": \"category\",\n        \"num_unique_values\": 25,\n        \"samples\": [\n          \"CUST_25\",\n          \"CUST_18\",\n          \"CUST_09\"\n        ],\n        \"semantic_type\": \"\",\n        \"description\": \"\"\n      }\n    },\n    {\n      \"column\": \"Category\",\n      \"properties\": {\n        \"dtype\": \"category\",\n        \"num_unique_values\": 8,\n        \"samples\": [\n          \"Milk Products\",\n          \"Furniture\",\n          \"Patisserie\"\n        ],\n        \"semantic_type\": \"\",\n        \"description\": \"\"\n      }\n    },\n    {\n      \"column\": \"Item\",\n      \"properties\": {\n        \"dtype\": \"category\",\n        \"num_unique_values\": 200,\n        \"samples\": [\n          \"Item_6_CEA\",\n          \"Item_4_EHE\",\n          \"Item_22_BEV\"\n        ],\n        \"semantic_type\": \"\",\n        \"description\": \"\"\n      }\n    },\n    {\n      \"column\": \"Price Per Unit\",\n      \"properties\": {\n        \"dtype\": \"number\",\n        \"std\": 10.743519044264492,\n        \"min\": 5.0,\n        \"max\": 41.0,\n        \"num_unique_values\": 25,\n        \"samples\": [\n          8.0,\n          41.0,\n          18.5\n        ],\n        \"semantic_type\": \"\",\n        \"description\": \"\"\n      }\n    },\n    {\n      \"column\": \"Quantity\",\n      \"properties\": {\n        \"dtype\": \"number\",\n        \"std\": 2.8578828340805136,\n        \"min\": 1.0,\n        \"max\": 10.0,\n        \"num_unique_values\": 10,\n        \"samples\": [\n          4.0,\n          9.0,\n          1.0\n        ],\n        \"semantic_type\": \"\",\n        \"description\": \"\"\n      }\n    },\n    {\n      \"column\": \"Total Spent\",\n      \"properties\": {\n        \"dtype\": \"number\",\n        \"std\": 94.75069674502333,\n        \"min\": 5.0,\n        \"max\": 410.0,\n        \"num_unique_values\": 227,\n        \"samples\": [\n          72.0,\n          15.5,\n          275.0\n        ],\n        \"semantic_type\": \"\",\n        \"description\": \"\"\n      }\n    },\n    {\n      \"column\": \"Payment Method\",\n      \"properties\": {\n        \"dtype\": \"category\",\n        \"num_unique_values\": 3,\n        \"samples\": [\n          \"Digital Wallet\",\n          \"Credit Card\",\n          \"Cash\"\n        ],\n        \"semantic_type\": \"\",\n        \"description\": \"\"\n      }\n    },\n    {\n      \"column\": \"Location\",\n      \"properties\": {\n        \"dtype\": \"category\",\n        \"num_unique_values\": 2,\n        \"samples\": [\n          \"In-store\",\n          \"Online\"\n        ],\n        \"semantic_type\": \"\",\n        \"description\": \"\"\n      }\n    },\n    {\n      \"column\": \"Transaction Date\",\n      \"properties\": {\n        \"dtype\": \"object\",\n        \"num_unique_values\": 1114,\n        \"samples\": [\n          \"2022-01-10\",\n          \"2023-04-06\"\n        ],\n        \"semantic_type\": \"\",\n        \"description\": \"\"\n      }\n    },\n    {\n      \"column\": \"Discount Applied\",\n      \"properties\": {\n        \"dtype\": \"category\",\n        \"num_unique_values\": 2,\n        \"samples\": [\n          false,\n          true\n        ],\n        \"semantic_type\": \"\",\n        \"description\": \"\"\n      }\n    }\n  ]\n}"
            }
          },
          "metadata": {},
          "execution_count": 26
        }
      ]
    },
    {
      "cell_type": "code",
      "source": [
        "\n",
        "# Detect missing values\n",
        "missing_summary = df.isnull().sum()\n",
        "\n",
        "# Only show columns with missing data\n",
        "missing_summary = missing_summary[missing_summary > 0]\n",
        "\n",
        "# Count rows with ANY missing values\n",
        "rows_with_missing = df.isnull().any(axis=1).sum()\n",
        "\n",
        "print(\"Missing values by column:\")\n",
        "print(missing_summary)\n",
        "print(\"\\nTotal rows affected by missing data:\", rows_with_missing)\n"
      ],
      "metadata": {
        "colab": {
          "base_uri": "https://localhost:8080/"
        },
        "id": "ODjylZrKgg-A",
        "outputId": "245a3465-b44d-4b7c-9441-da4d8b993a83"
      },
      "execution_count": null,
      "outputs": [
        {
          "output_type": "stream",
          "name": "stdout",
          "text": [
            "Missing values by column:\n",
            "Item                1213\n",
            "Price Per Unit       609\n",
            "Quantity             604\n",
            "Total Spent          604\n",
            "Discount Applied    4199\n",
            "dtype: int64\n",
            "\n",
            "Total rows affected by missing data: 4996\n"
          ]
        }
      ]
    },
    {
      "cell_type": "markdown",
      "source": [
        "1. Detecting and Summarize Values\n",
        "\n",
        "The features that have missing data are Item, Price Per Unit, Quantity, Total Spent, and Discount Applied.\n",
        "\n",
        "In total, there were 4996 (out of 12,575) rows with missing data - in any given column.\n",
        "\n",
        "Missing data could come from human entry error, system glitches, or unavailable info at purchase time."
      ],
      "metadata": {
        "id": "iAbvQyMEhIFo"
      }
    },
    {
      "cell_type": "code",
      "source": [
        "\n",
        "import warnings\n",
        "warnings.simplefilter(action='ignore', category=FutureWarning)\n",
        "\n",
        "# Option A: Drop rows with missing values\n",
        "df_drop = df.dropna()\n",
        "\n",
        "# Option B: Fill numeric with mean, categorical with mode\n",
        "df_fill = df.copy()\n",
        "for col in df_fill.columns:\n",
        "    if df_fill[col].dtype in ['int64', 'float64']:\n",
        "        df_fill[col] = df_fill[col].fillna(df_fill[col].mean())\n",
        "    else:\n",
        "        df_fill[col] = df_fill[col].fillna(df_fill[col].mode()[0])\n",
        "\n",
        "# Option C: Fill numeric with median, categorical with mode\n",
        "df_median = df.copy()\n",
        "for col in df_median.columns:\n",
        "    if df_median[col].dtype in ['int64', 'float64']:\n",
        "        df_median[col] = df_median[col].fillna(df_median[col].median())\n",
        "    else:\n",
        "        df_median[col] = df_median[col].fillna(df_median[col].mode()[0])\n",
        "\n",
        "# --- Check results ---\n",
        "print(\"Original rows:\", len(df))\n",
        "print(\"After dropping:\", len(df_drop))\n",
        "print(\"After mean/mode fill - missing values left:\\n\", df_fill.isnull().sum().sum())\n",
        "print(\"After median/mode fill - missing values left:\\n\", df_median.isnull().sum().sum())\n"
      ],
      "metadata": {
        "colab": {
          "base_uri": "https://localhost:8080/"
        },
        "id": "4l5V0SAWjHbA",
        "outputId": "43f2a1de-0f34-44d3-da26-00ef2143bc94"
      },
      "execution_count": null,
      "outputs": [
        {
          "output_type": "stream",
          "name": "stdout",
          "text": [
            "Original rows: 12575\n",
            "After dropping: 7579\n",
            "After mean/mode fill - missing values left:\n",
            " 0\n",
            "After median/mode fill - missing values left:\n",
            " 0\n"
          ]
        }
      ]
    },
    {
      "cell_type": "markdown",
      "source": [
        "2. Handle Missing Values\n",
        "\n",
        "After comparing the 3 methods, I would recommend option C (median + mode imputation).\n",
        "\n",
        "* Dropping rows (Option A), reduces the dataset size too much, which risks losing useful information. Dropping rows like this would only make sense if the number of missing rows was small compared to the full dataset, not almost half.\n",
        "\n",
        "* Mean + mode (Option B) imputation works well for symmetric data, but the Total Spent amounts show skewness and potentially some outliers - as seen from the Histogram on Kaggle - which makes the mean much less reliable.\n",
        "\n",
        "* Median + mode (Option C) imputation is more robust and resistant to skewness, and preserves dataset size, making it the best balance for completeness and accuracy.\n",
        "\n",
        "Worth noting the only difference between Option B and Option C is how we fill the missing numeric features (mean vs median), they both fill the missing categorical features the same way - using Mode (the most common value in the category)."
      ],
      "metadata": {
        "id": "0pviXTPYpRNg"
      }
    },
    {
      "cell_type": "code",
      "source": [
        "\n",
        "import pandas as pd\n",
        "\n",
        "# Look at categorical / object columns\n",
        "cat_cols = df.select_dtypes(include=['object']).columns\n",
        "\n",
        "for col in cat_cols:\n",
        "    unique_vals = df[col].dropna().unique()\n",
        "    print(f\"\\n--- {col} ---\")\n",
        "    print(f\"Unique values (sample up to 20): {unique_vals[:20]}\")\n",
        "    print(f\"Total unique values: {len(unique_vals)}\")\n"
      ],
      "metadata": {
        "colab": {
          "base_uri": "https://localhost:8080/"
        },
        "id": "KdrR-TcvMj8S",
        "outputId": "62cb13dd-bd90-4c43-dbc7-8a33452de8a3"
      },
      "execution_count": null,
      "outputs": [
        {
          "output_type": "stream",
          "name": "stdout",
          "text": [
            "\n",
            "--- Transaction ID ---\n",
            "Unique values (sample up to 20): ['TXN_6867343' 'TXN_3731986' 'TXN_9303719' 'TXN_9458126' 'TXN_4575373'\n",
            " 'TXN_7482416' 'TXN_3652209' 'TXN_1372952' 'TXN_9728486' 'TXN_2722661'\n",
            " 'TXN_8776416' 'TXN_5422631' 'TXN_5874772' 'TXN_4413070' 'TXN_2490363'\n",
            " 'TXN_1809665' 'TXN_7563311' 'TXN_9634894' 'TXN_4396807' 'TXN_4206593']\n",
            "Total unique values: 12575\n",
            "\n",
            "--- Customer ID ---\n",
            "Unique values (sample up to 20): ['CUST_09' 'CUST_22' 'CUST_02' 'CUST_06' 'CUST_05' 'CUST_07' 'CUST_21'\n",
            " 'CUST_23' 'CUST_25' 'CUST_14' 'CUST_15' 'CUST_17' 'CUST_01' 'CUST_10'\n",
            " 'CUST_04' 'CUST_13' 'CUST_18' 'CUST_08' 'CUST_20' 'CUST_12']\n",
            "Total unique values: 25\n",
            "\n",
            "--- Category ---\n",
            "Unique values (sample up to 20): ['Patisserie' 'Milk Products' 'Butchers' 'Beverages' 'Food' 'Furniture'\n",
            " 'Electric Household Essentials' 'Computers And Electric Accessories']\n",
            "Total unique values: 8\n",
            "\n",
            "--- Item ---\n",
            "Unique values (sample up to 20): ['Item_10_PAT' 'Item_17_MILK' 'Item_12_BUT' 'Item_16_BEV' 'Item_6_FOOD'\n",
            " 'Item_1_FOOD' 'Item_16_FUR' 'Item_22_BUT' 'Item_3_BUT' 'Item_2_FOOD'\n",
            " 'Item_24_PAT' 'Item_16_MILK' 'Item_17_PAT' 'Item_13_EHE' 'Item_7_BEV'\n",
            " 'Item_4_EHE' 'Item_10_FOOD' 'Item_14_FUR' 'Item_20_BUT' 'Item_25_FUR']\n",
            "Total unique values: 200\n",
            "\n",
            "--- Payment Method ---\n",
            "Unique values (sample up to 20): ['Digital Wallet' 'Credit Card' 'Cash']\n",
            "Total unique values: 3\n",
            "\n",
            "--- Location ---\n",
            "Unique values (sample up to 20): ['Online' 'In-store']\n",
            "Total unique values: 2\n",
            "\n",
            "--- Discount Applied ---\n",
            "Unique values (sample up to 20): [True False]\n",
            "Total unique values: 2\n"
          ]
        }
      ]
    },
    {
      "cell_type": "markdown",
      "source": [
        "3. Standardize Inconsistent Formats\n",
        "\n",
        "* Categorical columns often have inconsistent capitalization/spaces\n",
        "* Date formats may be inconsistent\n",
        "* Before and after proves clean-up"
      ],
      "metadata": {
        "id": "3OnecZ3CNqDd"
      }
    },
    {
      "cell_type": "code",
      "source": [
        "\n",
        "# Keep a copy of original categories for comparison\n",
        "df['Category_before'] = df['Category']\n",
        "\n",
        "# Define mapping for inconsistent/long names\n",
        "category_mapping = {\n",
        "    \"Electric household essentials\": \"Electronics\",\n",
        "    \"Computers and electric accessories\": \"Electronics\",\n",
        "    \"Butchers\": \"Meat\",\n",
        "    \"Food\": \"Groceries\"\n",
        "}\n",
        "\n",
        "# Apply mapping\n",
        "df['Category'] = df['Category'].replace(category_mapping)\n",
        "\n",
        "# Compare value counts before vs after\n",
        "print(\"Category counts (before standardization):\")\n",
        "print(df['Category_before'].value_counts().head(10))\n",
        "print(\"\\nCategory counts (after standardization):\")\n",
        "print(df['Category'].value_counts().head(10))\n",
        "\n",
        "\n",
        "# Keep a copy of original dates for comparison\n",
        "df['Transaction Date_before'] = df['Transaction Date']\n",
        "\n",
        "# Convert to datetime\n",
        "df['Transaction Date'] = pd.to_datetime(df['Transaction Date'], errors='coerce')\n",
        "\n",
        "# Show a few before vs after\n",
        "print(\"\\nTransaction Date (before):\")\n",
        "print(df['Transaction Date_before'].head(5).tolist())\n",
        "print(\"\\nTransaction Date (after):\")\n",
        "print(df['Transaction Date'].head(5).tolist())\n"
      ],
      "metadata": {
        "colab": {
          "base_uri": "https://localhost:8080/"
        },
        "id": "j4K3HZa3bGU8",
        "outputId": "c5cb5d60-bcf5-4b15-b3a9-588e0bde70bb"
      },
      "execution_count": null,
      "outputs": [
        {
          "output_type": "stream",
          "name": "stdout",
          "text": [
            "Category counts (before standardization):\n",
            "Category_before\n",
            "Electric household essentials         1591\n",
            "Furniture                             1591\n",
            "Food                                  1588\n",
            "Milk Products                         1584\n",
            "Butchers                              1568\n",
            "Beverages                             1567\n",
            "Computers and electric accessories    1558\n",
            "Patisserie                            1528\n",
            "Name: count, dtype: int64\n",
            "\n",
            "Category counts (after standardization):\n",
            "Category\n",
            "Electronics      3149\n",
            "Furniture        1591\n",
            "Groceries        1588\n",
            "Milk Products    1584\n",
            "Meat             1568\n",
            "Beverages        1567\n",
            "Patisserie       1528\n",
            "Name: count, dtype: int64\n",
            "\n",
            "Transaction Date (before):\n",
            "['2024-04-08', '2023-07-23', '2022-10-05', '2022-05-07', '2022-10-02']\n",
            "\n",
            "Transaction Date (after):\n",
            "[Timestamp('2024-04-08 00:00:00'), Timestamp('2023-07-23 00:00:00'), Timestamp('2022-10-05 00:00:00'), Timestamp('2022-05-07 00:00:00'), Timestamp('2022-10-02 00:00:00')]\n"
          ]
        }
      ]
    },
    {
      "cell_type": "markdown",
      "source": [
        "Category column\n",
        "* Issue: Some category names were inconsistent or overly specific, such as\n",
        "    * \"Electric household essentials\" vs \"Computers and electric accessories\"\n",
        "    * \"Butchers\" vs \"Food\"\n",
        "* Fix: Standardized these into broader, consistent categories:\n",
        "    * \"Electric household essentials\" becomes \"Electronics\"\n",
        "    * \"Computers and electric accessories\" becomes \"Electronics\"\n",
        "    * \"Butchers\" becomes \"Meat\"\n",
        "    * \"Food\" becomes \"Groceries\"\n",
        "\n",
        "Transaction Date column\n",
        "* Issue: The Transaction Date column was stored as plain strings, which makes time-series analysis difficult.\n",
        "    * Example before: \"2024-04-08\", \"2023-07-23\", \"2022-10-05\"\n",
        "* Fix: Converted to Pandas datetime format using pd.to_datetime()"
      ],
      "metadata": {
        "id": "Xo_-ZEGVbG5Z"
      }
    },
    {
      "cell_type": "code",
      "source": [
        "\n",
        "# Check duplicates across all columns\n",
        "duplicate_count = df.duplicated().sum()\n",
        "print(\"Duplicate rows:\", duplicate_count)\n",
        "\n",
        "# Drop duplicates\n",
        "df_no_dupes = df.drop_duplicates()\n",
        "\n",
        "print(\"Rows before:\", len(df))\n",
        "print(\"Rows after removing duplicates:\", len(df_no_dupes))\n"
      ],
      "metadata": {
        "colab": {
          "base_uri": "https://localhost:8080/"
        },
        "id": "RmiLEi_lOauC",
        "outputId": "8fcca3fa-d07a-43c6-c85d-a12472979870"
      },
      "execution_count": null,
      "outputs": [
        {
          "output_type": "stream",
          "name": "stdout",
          "text": [
            "Duplicate rows: 0\n",
            "Rows before: 12575\n",
            "Rows after removing duplicates: 12575\n"
          ]
        }
      ]
    },
    {
      "cell_type": "markdown",
      "source": [
        "4. Detect and Remove Duplicates\n",
        "\n",
        "* If a duplicate is exact across all fields, it is safe to drop.\n",
        "\n",
        "* Sometimes you may define a “duplicate” by subset (e.g., same TransactionID, Date, CustomerID)\n",
        "\n",
        "There are no duplicate transactions, seen as there are 12,575 rows/instances in the dataset, and exactly 12,575 unique Transaction IDs."
      ],
      "metadata": {
        "id": "VBRsbpEUPDEo"
      }
    },
    {
      "cell_type": "code",
      "source": [
        "import matplotlib.pyplot as plt\n",
        "import seaborn as sns\n",
        "\n",
        "# Boxplots for numeric features\n",
        "plt.figure(figsize=(12,6))\n",
        "sns.boxplot(data=df.select_dtypes(include=['int64','float64']))\n",
        "plt.xticks(rotation=45)\n",
        "plt.show()\n",
        "\n",
        "# Simple automatic outlier detection using z-score\n",
        "from scipy import stats\n",
        "import numpy as np\n",
        "\n",
        "numeric_df = df.select_dtypes(include=['int64','float64'])\n",
        "z_scores = np.abs(stats.zscore(numeric_df, nan_policy='omit'))\n",
        "\n",
        "outliers = (z_scores > 3).any(axis=1)\n",
        "print(\"Potential outliers detected:\", outliers.sum())\n"
      ],
      "metadata": {
        "colab": {
          "base_uri": "https://localhost:8080/",
          "height": 601
        },
        "id": "qD_dqm9IUFmm",
        "outputId": "96e9190b-e6f0-44e1-e906-fecb8d047bc5"
      },
      "execution_count": null,
      "outputs": [
        {
          "output_type": "display_data",
          "data": {
            "text/plain": [
              "<Figure size 1200x600 with 1 Axes>"
            ],
            "image/png": "[encoded data removed]"
          },
          "metadata": {}
        },
        {
          "output_type": "stream",
          "name": "stdout",
          "text": [
            "Potential outliers detected: 0\n"
          ]
        }
      ]
    },
    {
      "cell_type": "markdown",
      "source": [
        "5. Explore and Discuss Potential Outliers\n",
        "\n",
        "* Box-plot reveals extreme values (very high/low sale amounts)\n",
        "* Z-score > 3 or < -3 flags statistical outliers\n",
        "* Outliers may represent data errors (typos like 10000 instead of 100) OR real rare events (bulk purchase)."
      ],
      "metadata": {
        "id": "Xo-6NFHfU4Yf"
      }
    },
    {
      "cell_type": "code",
      "source": [
        "import numpy as np\n",
        "from scipy import stats\n",
        "\n",
        "# Boxplot-based outliers\n",
        "Q1 = df['Total Spent'].quantile(0.25)\n",
        "Q3 = df['Total Spent'].quantile(0.75)\n",
        "IQR = Q3 - Q1\n",
        "boxplot_outliers = df[(df['Total Spent'] < Q1 - 1.5*IQR) | (df['Total Spent'] > Q3 + 1.5*IQR)]\n",
        "\n",
        "# Z-score outliers\n",
        "z_scores = np.abs(stats.zscore(df['Total Spent'], nan_policy='omit'))\n",
        "z_outliers = df[z_scores > 3]\n",
        "\n",
        "print(\"Boxplot outliers:\", len(boxplot_outliers))\n",
        "print(\"Z-score outliers:\", len(z_outliers))"
      ],
      "metadata": {
        "colab": {
          "base_uri": "https://localhost:8080/"
        },
        "id": "h97L67o0WXaQ",
        "outputId": "97cec0e5-502b-461f-dbe9-66b45589bf70"
      },
      "execution_count": null,
      "outputs": [
        {
          "output_type": "stream",
          "name": "stdout",
          "text": [
            "Boxplot outliers: 60\n",
            "Z-score outliers: 0\n"
          ]
        }
      ]
    },
    {
      "cell_type": "markdown",
      "source": [
        "The boxplot detected at least one outlier in TotalSpent (shown as a circle), but the z-score method did not flag it.\n",
        "\n",
        "This discrepancy occurs because boxplots use the IQR * 1.5 rule (non-parametric, therefore it doesn't assume normal distribution), which is more sensitive to skewed distributions, while z-scores assume a normal distribution and only flag very extreme deviations.\n",
        "\n",
        "Since retail spending is usually skewed (most people spend little, some spend a lot), the boxplot is often more appropriate for detecting potential anomalies in this dataset."
      ],
      "metadata": {
        "id": "THDgSyRMWr8T"
      }
    }
  ]
}